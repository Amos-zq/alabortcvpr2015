{
 "metadata": {
  "name": "",
  "signature": "sha256:1905b4d488663a00cb04be8fcff2732bab34947335e8a86ecfb206f631867d89"
 },
 "nbformat": 3,
 "nbformat_minor": 0,
 "worksheets": [
  {
   "cells": [
    {
     "cell_type": "code",
     "collapsed": false,
     "input": [
      "%matplotlib inline\n",
      "%pylab inline"
     ],
     "language": "python",
     "metadata": {},
     "outputs": [
      {
       "output_type": "stream",
       "stream": "stdout",
       "text": [
        "Populating the interactive namespace from numpy and matplotlib\n"
       ]
      }
     ],
     "prompt_number": 1
    },
    {
     "cell_type": "heading",
     "level": 1,
     "metadata": {},
     "source": [
      "Load Results"
     ]
    },
    {
     "cell_type": "code",
     "collapsed": false,
     "input": [
      "from alabortcvpr2015.utils import pickle_load\n",
      "\n",
      "exp = 'face'\n",
      "\n",
      "aam_pic = pickle_load('/data/PhD/Results/aam_pic' + exp)\n",
      "aam_aic = pickle_load('/data/PhD/Results/aam_aic' + exp)\n",
      "\n",
      "clm_rlms = pickle_load('/data/PhD/Results/clm_rlms' + exp)\n",
      "clm_lki = pickle_load('/data/PhD/Results/clm_lki' + exp)\n",
      "clm_lkf = pickle_load('/data/PhD/Results/aam_lkf' + exp)\n",
      "\n",
      "unified_pic_rlms = pickle_load('/data/PhD/Results/unified_pic_rlms' + exp)\n",
      "unified_aic_rlms = pickle_load('/data/PhD/Results/unified_aic_rlms' + exp)\n",
      "unified_pic_lki = pickle_load('/data/PhD/Results/unified_pic_lki' + exp)\n",
      "unified_aic_lki = pickle_load('/data/PhD/Results/unified_aic_lki' + exp)"
     ],
     "language": "python",
     "metadata": {},
     "outputs": []
    },
    {
     "cell_type": "heading",
     "level": 1,
     "metadata": {},
     "source": [
      "Explore Results"
     ]
    },
    {
     "cell_type": "heading",
     "level": 3,
     "metadata": {},
     "source": [
      "CEDs"
     ]
    },
    {
     "cell_type": "code",
     "collapsed": false,
     "input": [
      "initial_errors = [fr.initial_error() for fr in aam_pic]\n",
      "\n",
      "aam_pic_errors = [fr.final_error() for fr in aam_pic]\n",
      "aam_aic_errors = [fr.final_error() for fr in aam_aic]\n",
      "\n",
      "clm_rlms_errors = [fr.final_error() for fr in clm_rlms]\n",
      "clm_lki_errors = [fr.final_error() for fr in clm_lki]\n",
      "clm_lkf_errors = [fr.final_error() for fr in clm_lki]\n",
      "\n",
      "unified_pic_rlms_errors = [fr.final_error() for fr in unified_pic_rlms]\n",
      "unified_aic_rlms_errors =[fr.final_error() for fr in unified_aic_rlms]\n",
      "unified_pic_lki_errors = [fr.final_error() for fr in unified_pic_lki]\n",
      "unified_aic_lki_errors = [fr.final_error() for fr in unified_aic_lki]"
     ],
     "language": "python",
     "metadata": {},
     "outputs": []
    },
    {
     "cell_type": "code",
     "collapsed": false,
     "input": [
      "from menpofit.visualize import plot_ced\n",
      "\n",
      "errors = [initial_errors\n",
      "          aam_pic_errors, \n",
      "          aam_aic_errors,\n",
      "          clm_rlms_errors,\n",
      "          clm_lki_errors,\n",
      "          clm_lkf_errors,\n",
      "          unified_pic_rlms_errors,\n",
      "          unified_aic_rlms_errors,\n",
      "          unified_pic_lki_errors,\n",
      "          unified_aic_lki_errors]\n",
      "\n",
      "legend_entries = ['Initialization',\n",
      "                  'AAM-PIC',\n",
      "                  'AAM-AIC',\n",
      "                  'CLM-RLMS',\n",
      "                  'CLM-LKI',\n",
      "                  'CLM-LKF',\n",
      "                  'UNI-PIC-RLMS',\n",
      "                  'UNI-AIC-RLMS',\n",
      "                  'UNI-PIC-LKI',\n",
      "                  'UNI-AIC-LKI']\n",
      "\n",
      "plot_ced(errors, legend_entries=legend_entries)"
     ],
     "language": "python",
     "metadata": {},
     "outputs": [
      {
       "ename": "TypeError",
       "evalue": "plot_ced() takes at least 1 argument (0 given)",
       "output_type": "pyerr",
       "traceback": [
        "\u001b[1;31m---------------------------------------------------------------------------\u001b[0m\n\u001b[1;31mTypeError\u001b[0m                                 Traceback (most recent call last)",
        "\u001b[1;32m<ipython-input-2-2b44de793857>\u001b[0m in \u001b[0;36m<module>\u001b[1;34m()\u001b[0m\n\u001b[0;32m      1\u001b[0m \u001b[1;32mfrom\u001b[0m \u001b[0mmenpofit\u001b[0m\u001b[1;33m.\u001b[0m\u001b[0mvisualize\u001b[0m \u001b[1;32mimport\u001b[0m \u001b[0mplot_ced\u001b[0m\u001b[1;33m\u001b[0m\u001b[0m\n\u001b[0;32m      2\u001b[0m \u001b[1;33m\u001b[0m\u001b[0m\n\u001b[1;32m----> 3\u001b[1;33m \u001b[0mplot_ced\u001b[0m\u001b[1;33m(\u001b[0m\u001b[1;33m)\u001b[0m\u001b[1;33m\u001b[0m\u001b[0m\n\u001b[0m",
        "\u001b[1;31mTypeError\u001b[0m: plot_ced() takes at least 1 argument (0 given)"
       ]
      }
     ],
     "prompt_number": 2
    },
    {
     "cell_type": "heading",
     "level": 3,
     "metadata": {},
     "source": [
      "Statistics"
     ]
    },
    {
     "cell_type": "code",
     "collapsed": false,
     "input": [
      "for err, method in (errors, legend_entries):\n",
      "    print method, ': ', np.mean(err), np.std(err), np.median(err)  "
     ],
     "language": "python",
     "metadata": {},
     "outputs": []
    }
   ],
   "metadata": {}
  }
 ]
}