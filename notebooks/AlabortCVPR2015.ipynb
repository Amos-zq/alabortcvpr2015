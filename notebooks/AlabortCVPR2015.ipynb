{
 "cells": [
  {
   "cell_type": "code",
   "execution_count": null,
   "metadata": {
    "collapsed": false
   },
   "outputs": [],
   "source": [
    "%matplotlib inline\n",
    "\n",
    "import numpy as np\n",
    "\n",
    "import matplotlib.pyplot as plt\n",
    "\n",
    "from functools import partial\n",
    "\n",
    "import menpo.io as mio\n",
    "from menpo.landmark import labeller, ibug_face_66\n",
    "from menpo.feature import no_op, fast_dsift\n",
    "from menpo.visualize import visualize_images\n",
    "\n",
    "from menpofit.visualize import visualize_fitting_results\n",
    "\n",
    "from alabortcvpr2015.aam import (\n",
    "    GlobalAAMBuilderfrom, GlobalAAMFitter, \n",
    "    PartsAAMBuilder, PartsAAMFitter,\n",
    "    AIC, PIC)\n",
    "from alabortcvpr2015.clm import CLMBuilder\n",
    "from alabortcvpr2015.clm.classifier import MCF"
   ]
  },
  {
   "cell_type": "markdown",
   "metadata": {},
   "source": [
    "# Load training data"
   ]
  },
  {
   "cell_type": "code",
   "execution_count": null,
   "metadata": {
    "collapsed": false
   },
   "outputs": [],
   "source": [
    "training_images = []\n",
    "for i in mio.import_images('/data/PhD/DataBases/faces/lfpw/trainset/', verbose=True, \n",
    "                           max_images=100):\n",
    "    \n",
    "    i = i.rescale_landmarks_to_diagonal_range(200)\n",
    "    i.crop_to_landmarks_proportion_inplace(0.5)\n",
    "    labeller(i, 'PTS', ibug_face_66)\n",
    "    if i.n_channels == 3:\n",
    "        i = i.as_greyscale(mode='average')\n",
    "    training_images.append(i)"
   ]
  },
  {
   "cell_type": "code",
   "execution_count": null,
   "metadata": {
    "collapsed": false
   },
   "outputs": [],
   "source": [
    "visualize_images(training_images)"
   ]
  },
  {
   "cell_type": "markdown",
   "metadata": {},
   "source": [
    "# Load test data"
   ]
  },
  {
   "cell_type": "code",
   "execution_count": null,
   "metadata": {
    "collapsed": false
   },
   "outputs": [],
   "source": [
    "test_images = []\n",
    "for i in mio.import_images('/data/PhD/DataBases/faces/afw', verbose=True, \n",
    "                           max_images=10):\n",
    "    \n",
    "    i = i.rescale_landmarks_to_diagonal_range(200)\n",
    "    i.crop_to_landmarks_proportion_inplace(0.5)\n",
    "    labeller(i, 'PTS', ibug_face_66)\n",
    "    if i.n_channels == 3:\n",
    "        i = i.as_greyscale(mode='average')\n",
    "    test_images.append(i)"
   ]
  },
  {
   "cell_type": "code",
   "execution_count": null,
   "metadata": {
    "collapsed": false
   },
   "outputs": [],
   "source": [
    "visualize_images(test_images)"
   ]
  },
  {
   "cell_type": "markdown",
   "metadata": {},
   "source": [
    "# Active Appearance Models"
   ]
  },
  {
   "cell_type": "markdown",
   "metadata": {},
   "source": [
    "## Global Warp"
   ]
  },
  {
   "cell_type": "markdown",
   "metadata": {},
   "source": [
    "### Build"
   ]
  },
  {
   "cell_type": "code",
   "execution_count": null,
   "metadata": {
    "collapsed": false
   },
   "outputs": [],
   "source": [
    "builder = GlobalAAMBuilder(features=fast_dsift, diagonal=100, \n",
    "                           scale_shapes=False, scales=(1, .5))\n",
    "aam = builder.build(training_images, group='ibug_face_66', verbose=True)"
   ]
  },
  {
   "cell_type": "markdown",
   "metadata": {},
   "source": [
    "### Test"
   ]
  },
  {
   "cell_type": "code",
   "execution_count": null,
   "metadata": {
    "collapsed": false
   },
   "outputs": [],
   "source": [
    "fitter = GlobalAAMFitter(aam, algorithm_cls=AIC, n_shape=[3, 12], \n",
    "                         n_appearance=[25, 50], sampling_step=8)"
   ]
  },
  {
   "cell_type": "code",
   "execution_count": null,
   "metadata": {
    "collapsed": false
   },
   "outputs": [],
   "source": [
    "np.random.seed(seed=1)\n",
    "\n",
    "fitter_results = []\n",
    "\n",
    "for j, i in enumerate(test_images[:]):\n",
    "    \n",
    "    gt_s = i.landmarks['ibug_face_66'].lms\n",
    "    s = fitter.perturb_shape(gt_s, noise_std=0.05)\n",
    "    \n",
    "    fr = fitter.fit(i, s, gt_shape=gt_s, max_iters=20, map_inference=True)\n",
    "    fr.downscale = 0.5\n",
    "    \n",
    "    fitter_results.append(fr)\n",
    "    \n",
    "    print 'Image: ', j\n",
    "    print fr"
   ]
  },
  {
   "cell_type": "markdown",
   "metadata": {},
   "source": [
    "### Visualize Results"
   ]
  },
  {
   "cell_type": "code",
   "execution_count": null,
   "metadata": {
    "collapsed": false
   },
   "outputs": [],
   "source": [
    "visualize_fitting_results(fitter_results)"
   ]
  },
  {
   "cell_type": "markdown",
   "metadata": {},
   "source": [
    "### Timing"
   ]
  },
  {
   "cell_type": "markdown",
   "metadata": {},
   "source": [
    "#### Total"
   ]
  },
  {
   "cell_type": "code",
   "execution_count": null,
   "metadata": {
    "collapsed": false
   },
   "outputs": [],
   "source": [
    "%timeit fitter.fit(i, s, gt_shape=gt_s, max_iters=20)"
   ]
  },
  {
   "cell_type": "markdown",
   "metadata": {},
   "source": [
    "#### Per line"
   ]
  },
  {
   "cell_type": "code",
   "execution_count": null,
   "metadata": {
    "collapsed": false
   },
   "outputs": [],
   "source": [
    "import line_profiler\n",
    "import IPython\n",
    "\n",
    "ip = IPython.get_ipython()\n",
    "ip.define_magic('lprun', line_profiler.magic_lprun)"
   ]
  },
  {
   "cell_type": "code",
   "execution_count": null,
   "metadata": {
    "collapsed": false
   },
   "outputs": [],
   "source": [
    "from alabortcvpr2015.aam import AIC\n",
    "\n",
    "%lprun -f AIC.run fitter.fit(i, s, gt_shape=gt_s, max_iters=20)"
   ]
  },
  {
   "cell_type": "markdown",
   "metadata": {},
   "source": [
    "## Local Warp"
   ]
  },
  {
   "cell_type": "markdown",
   "metadata": {},
   "source": [
    "### Build"
   ]
  },
  {
   "cell_type": "code",
   "execution_count": null,
   "metadata": {
    "collapsed": false
   },
   "outputs": [],
   "source": [
    "builder = PartsAAMBuilder(parts_shape=(17, 17), features=fast_dsift, diagonal=100, \n",
    "                          scale_shapes=False, scales=(1, .5))\n",
    "aam = builder.build(training_images, group='ibug_face_66', verbose=True)"
   ]
  },
  {
   "cell_type": "markdown",
   "metadata": {},
   "source": [
    "### Test"
   ]
  },
  {
   "cell_type": "code",
   "execution_count": null,
   "metadata": {
    "collapsed": false
   },
   "outputs": [],
   "source": [
    "sampling_mask = np.require(np.zeros((17, 17)), dtype=np.bool)\n",
    "sampling_mask[::4, ::4] = True\n",
    "\n",
    "plt.imshow(sampling_mask)"
   ]
  },
  {
   "cell_type": "code",
   "execution_count": null,
   "metadata": {
    "collapsed": false
   },
   "outputs": [],
   "source": [
    "fitter = PartsAAMFitter(aam, algorithm_cls=AIC, n_shape=[3, 12], \n",
    "                        n_appearance=[25, 50], sampling_mask=sampling_mask)"
   ]
  },
  {
   "cell_type": "code",
   "execution_count": null,
   "metadata": {
    "collapsed": false
   },
   "outputs": [],
   "source": [
    "np.random.seed(seed=1)\n",
    "\n",
    "fitter_results = []\n",
    "\n",
    "for j, i in enumerate(test_images[:]):\n",
    "    \n",
    "    gt_s = i.landmarks['ibug_face_66'].lms\n",
    "    s = fitter.perturb_shape(gt_s, noise_std=0.05)\n",
    "    \n",
    "    fr = fitter.fit(i, s, gt_shape=gt_s, max_iters=20, map_inference=False)\n",
    "    fr.downscale = 0.5\n",
    "    \n",
    "    fitter_results.append(fr)\n",
    "    \n",
    "    print 'Image: ', j\n",
    "    print fr"
   ]
  },
  {
   "cell_type": "markdown",
   "metadata": {},
   "source": [
    "### Visualize Results"
   ]
  },
  {
   "cell_type": "code",
   "execution_count": null,
   "metadata": {
    "collapsed": false
   },
   "outputs": [],
   "source": [
    "visualize_fitting_results(fitter_results)"
   ]
  },
  {
   "cell_type": "markdown",
   "metadata": {},
   "source": [
    "### Timing"
   ]
  },
  {
   "cell_type": "markdown",
   "metadata": {},
   "source": [
    "#### Total"
   ]
  },
  {
   "cell_type": "code",
   "execution_count": null,
   "metadata": {
    "collapsed": false
   },
   "outputs": [],
   "source": [
    "%timeit fitter.fit(i, s, gt_shape=gt_s, max_iters=20)"
   ]
  },
  {
   "cell_type": "markdown",
   "metadata": {},
   "source": [
    "#### Per line"
   ]
  },
  {
   "cell_type": "code",
   "execution_count": null,
   "metadata": {
    "collapsed": false
   },
   "outputs": [],
   "source": [
    "import line_profiler\n",
    "import IPython\n",
    "\n",
    "ip = IPython.get_ipython()\n",
    "ip.define_magic('lprun', line_profiler.magic_lprun)"
   ]
  },
  {
   "cell_type": "code",
   "execution_count": null,
   "metadata": {
    "collapsed": false
   },
   "outputs": [],
   "source": [
    "from alabortcvpr2015.aam import AIC\n",
    "\n",
    "%lprun -f AIC.run fitter.fit(i, s, gt_shape=gt_s, max_iters=20)"
   ]
  },
  {
   "cell_type": "markdown",
   "metadata": {},
   "source": [
    "# Constrained Local Models"
   ]
  },
  {
   "cell_type": "markdown",
   "metadata": {},
   "source": [
    "## SVM Experts"
   ]
  },
  {
   "cell_type": "markdown",
   "metadata": {},
   "source": [
    "### Build"
   ]
  },
  {
   "cell_type": "code",
   "execution_count": null,
   "metadata": {
    "collapsed": false
   },
   "outputs": [],
   "source": [
    "from menpofast.feature import no_op, aam_dsift\n",
    "from alabortcvpr2015.clm import CLMBuilder\n",
    "from alabortcvpr2015.clm.classifier import LinearSVMLR \n",
    "\n",
    "offsets = np.meshgrid(range(-0, 1, 1), range(-0, 1, 1))\n",
    "offsets = np.asarray([offsets[0].flatten(), offsets[1].flatten()]).T \n",
    "\n",
    "builder = CLMBuilder(parts_shape=(15, 15), features=aam_dsift2, diagonal=100, \n",
    "                     classifier=LinearSVMLR, offsets=offsets, normalize_parts=True, \n",
    "                     covariance=1, scale_shapes=False, scales=(1, .5))\n",
    "\n",
    "clm = builder.build(training_images, group='ibug_face_66', verbose=True, \n",
    "                    threshold=0.015, dual=False, loss='l2', penalty='l1')"
   ]
  },
  {
   "cell_type": "markdown",
   "metadata": {},
   "source": [
    "### Test"
   ]
  },
  {
   "cell_type": "code",
   "execution_count": null,
   "metadata": {
    "collapsed": false
   },
   "outputs": [],
   "source": [
    "from alabortcvpr2015.clm import CLMFitter, RLMS\n",
    "                  \n",
    "fitter = CLMFitter(clm, n_shape=[3, 12], scale=100000, factor=100)"
   ]
  },
  {
   "cell_type": "code",
   "execution_count": null,
   "metadata": {
    "collapsed": false
   },
   "outputs": [],
   "source": [
    "np.random.seed(seed=1)\n",
    "\n",
    "fitter_results = []\n",
    "\n",
    "for j, i in enumerate(test_images):\n",
    "    \n",
    "    gt_s = i.landmarks['ibug_face_66'].lms\n",
    "    s = fitter.perturb_shape(gt_s, noise_std=0.04)\n",
    "    \n",
    "    fr = fitter.fit(i, s, gt_shape=gt_s, max_iters=20, prior=True)\n",
    "    \n",
    "    fitter_results.append(fr)\n",
    "    fr.downscale = 0.5\n",
    "    \n",
    "    print 'Image: ', j\n",
    "    print fr"
   ]
  },
  {
   "cell_type": "markdown",
   "metadata": {},
   "source": [
    "### Visualize Results"
   ]
  },
  {
   "cell_type": "code",
   "execution_count": null,
   "metadata": {
    "collapsed": false
   },
   "outputs": [],
   "source": [
    "from menpofit.visualize import visualize_fitting_results\n",
    "    \n",
    "visualize_fitting_results(fitter_results)"
   ]
  },
  {
   "cell_type": "markdown",
   "metadata": {},
   "source": [
    "### Timing"
   ]
  },
  {
   "cell_type": "markdown",
   "metadata": {},
   "source": [
    "#### Total"
   ]
  },
  {
   "cell_type": "code",
   "execution_count": null,
   "metadata": {
    "collapsed": false
   },
   "outputs": [],
   "source": [
    "%timeit fitter.fit(i, s, gt_shape=gt_s, max_iters=20)"
   ]
  },
  {
   "cell_type": "markdown",
   "metadata": {},
   "source": [
    "#### Per line"
   ]
  },
  {
   "cell_type": "code",
   "execution_count": null,
   "metadata": {
    "collapsed": false
   },
   "outputs": [],
   "source": [
    "import line_profiler\n",
    "import IPython\n",
    "\n",
    "ip = IPython.get_ipython()\n",
    "ip.define_magic('lprun', line_profiler.magic_lprun)"
   ]
  },
  {
   "cell_type": "code",
   "execution_count": null,
   "metadata": {
    "collapsed": false
   },
   "outputs": [],
   "source": [
    "from alabortcvpr2015.clm import RLMS\n",
    "\n",
    "%lprun -f RLMS.run fitter.fit(i, s, gt_shape=gt_s, max_iters=20)"
   ]
  },
  {
   "cell_type": "markdown",
   "metadata": {},
   "source": [
    "## MCF Experts"
   ]
  },
  {
   "cell_type": "markdown",
   "metadata": {},
   "source": [
    "### Build"
   ]
  },
  {
   "cell_type": "code",
   "execution_count": null,
   "metadata": {
    "collapsed": false
   },
   "outputs": [],
   "source": [
    "offsets = np.meshgrid(range(-0, 1, 1), range(-0, 1, 1))\n",
    "offsets = np.asarray([offsets[0].flatten(), offsets[1].flatten()]).T \n",
    "\n",
    "builder = CLMBuilder(parts_shape=(15, 15), features=fast_dsift, diagonal=100, \n",
    "                     classifier=MCF, offsets=offsets, normalize_parts=False, \n",
    "                     covariance=2, scale_shapes=False, scales=(1, .5))\n",
    "\n",
    "clm = builder.build(training_images, group='ibug_face_66', verbose=True)"
   ]
  },
  {
   "cell_type": "markdown",
   "metadata": {},
   "source": [
    "### Test"
   ]
  },
  {
   "cell_type": "code",
   "execution_count": null,
   "metadata": {
    "collapsed": false
   },
   "outputs": [],
   "source": [
    "from alabortcvpr2015.clm import CLMFitter, RLMS\n",
    "                  \n",
    "fitter = CLMFitter(clm, n_shape=[3, 12], scale=100, factor=10)"
   ]
  },
  {
   "cell_type": "code",
   "execution_count": null,
   "metadata": {
    "collapsed": false
   },
   "outputs": [],
   "source": [
    "np.random.seed(seed=1)\n",
    "\n",
    "fitter_results = []\n",
    "\n",
    "for j, i in enumerate(test_images):\n",
    "    \n",
    "    gt_s = i.landmarks['ibug_face_66'].lms\n",
    "    s = fitter.perturb_shape(gt_s, noise_std=0.05)\n",
    "    \n",
    "    fr = fitter.fit(i, s, gt_shape=gt_s, max_iters=20, prior=True)\n",
    "    \n",
    "    fitter_results.append(fr)\n",
    "    fr.downscale = 0.5\n",
    "    \n",
    "    print 'Image: ', j\n",
    "    print fr"
   ]
  },
  {
   "cell_type": "markdown",
   "metadata": {},
   "source": [
    "### Visualize Results"
   ]
  },
  {
   "cell_type": "code",
   "execution_count": null,
   "metadata": {
    "collapsed": false
   },
   "outputs": [],
   "source": [
    "from menpofit.visualize import visualize_fitting_results\n",
    "    \n",
    "visualize_fitting_results(fitter_results)"
   ]
  },
  {
   "cell_type": "markdown",
   "metadata": {},
   "source": [
    "### Timing"
   ]
  },
  {
   "cell_type": "markdown",
   "metadata": {},
   "source": [
    "#### Total"
   ]
  },
  {
   "cell_type": "code",
   "execution_count": null,
   "metadata": {
    "collapsed": false
   },
   "outputs": [],
   "source": [
    "%timeit fitter.fit(i, s, gt_shape=gt_s, max_iters=20)"
   ]
  },
  {
   "cell_type": "markdown",
   "metadata": {},
   "source": [
    "#### Per line"
   ]
  },
  {
   "cell_type": "code",
   "execution_count": null,
   "metadata": {
    "collapsed": false
   },
   "outputs": [],
   "source": [
    "import line_profiler\n",
    "import IPython\n",
    "\n",
    "ip = IPython.get_ipython()\n",
    "ip.define_magic('lprun', line_profiler.magic_lprun)"
   ]
  },
  {
   "cell_type": "code",
   "execution_count": null,
   "metadata": {
    "collapsed": false
   },
   "outputs": [],
   "source": [
    "from alabortcvpr2015.clm import RLMS\n",
    "\n",
    "%lprun -f RLMS.run fitter.fit(i, s, gt_shape=gt_s, max_iters=20)"
   ]
  },
  {
   "cell_type": "code",
   "execution_count": null,
   "metadata": {
    "collapsed": false
   },
   "outputs": [],
   "source": []
  },
  {
   "cell_type": "markdown",
   "metadata": {},
   "source": [
    "# Unified"
   ]
  },
  {
   "cell_type": "markdown",
   "metadata": {},
   "source": [
    "## Global"
   ]
  },
  {
   "cell_type": "markdown",
   "metadata": {},
   "source": [
    "### Build"
   ]
  },
  {
   "cell_type": "code",
   "execution_count": null,
   "metadata": {
    "collapsed": false
   },
   "outputs": [],
   "source": [
    "from menpofast.feature import no_op, aam_dsift, aam_daisy\n",
    "from alabortcvpr2015.unified import GlobalUnifiedBuilder\n",
    "from alabortcvpr2015.clm.classifier import MCF\n",
    "\n",
    "offsets = np.meshgrid(range(-0, 1, 1), range(-0, 1, 1))\n",
    "offsets = np.asarray([offsets[0].flatten(), offsets[1].flatten()]).T \n",
    "\n",
    "builder = GlobalUnifiedBuilder(parts_shape=(15, 15), features=aam_dsift, diagonal=100, \n",
    "                               classifier=MCF, offsets=offsets, normalize_parts=False, \n",
    "                               covariance=2, scale_shapes=False, scales=(1, .5))\n",
    "\n",
    "unified = builder.build(training_images, group='ibug_face_66', verbose=True)"
   ]
  },
  {
   "cell_type": "markdown",
   "metadata": {},
   "source": [
    "### Test"
   ]
  },
  {
   "cell_type": "code",
   "execution_count": null,
   "metadata": {
    "collapsed": false
   },
   "outputs": [],
   "source": [
    "from alabortcvpr2015.unified import GlobalUnifiedFitter \n",
    "                  \n",
    "fitter = GlobalUnifiedFitter(unified, n_shape=[3, 12], n_appearance=[25, 50], \n",
    "                             scale=1000, factor=10, sampling_step=8)"
   ]
  },
  {
   "cell_type": "code",
   "execution_count": null,
   "metadata": {
    "collapsed": false
   },
   "outputs": [],
   "source": [
    "np.random.seed(seed=1)\n",
    "\n",
    "fitter_results = []\n",
    "\n",
    "for j, i in enumerate(test_images):\n",
    "    \n",
    "    gt_s = i.landmarks['ibug_face_66'].lms\n",
    "    s = fitter.perturb_shape(gt_s, noise_std=0.05)\n",
    "    \n",
    "    fr = fitter.fit(i, s, gt_shape=gt_s, max_iters=20, prior=True)\n",
    "    \n",
    "    fitter_results.append(fr)\n",
    "    fr.downscale = 0.5\n",
    "    \n",
    "    print 'Image: ', j\n",
    "    print fr"
   ]
  },
  {
   "cell_type": "markdown",
   "metadata": {},
   "source": [
    "### Visualize Results"
   ]
  },
  {
   "cell_type": "code",
   "execution_count": null,
   "metadata": {
    "collapsed": false
   },
   "outputs": [],
   "source": [
    "from menpofit.visualize import visualize_fitting_results\n",
    "    \n",
    "visualize_fitting_results(fitter_results)"
   ]
  },
  {
   "cell_type": "markdown",
   "metadata": {},
   "source": [
    "### Timing"
   ]
  },
  {
   "cell_type": "markdown",
   "metadata": {},
   "source": [
    "#### Total"
   ]
  },
  {
   "cell_type": "code",
   "execution_count": null,
   "metadata": {
    "collapsed": false
   },
   "outputs": [],
   "source": [
    "%timeit fitter.fit(i, s, gt_shape=gt_s, max_iters=20)"
   ]
  },
  {
   "cell_type": "markdown",
   "metadata": {},
   "source": [
    "#### Per line"
   ]
  },
  {
   "cell_type": "code",
   "execution_count": null,
   "metadata": {
    "collapsed": false
   },
   "outputs": [],
   "source": [
    "import line_profiler\n",
    "import IPython\n",
    "\n",
    "ip = IPython.get_ipython()\n",
    "ip.define_magic('lprun', line_profiler.magic_lprun)"
   ]
  },
  {
   "cell_type": "code",
   "execution_count": null,
   "metadata": {
    "collapsed": false
   },
   "outputs": [],
   "source": [
    "from alabortcvpr2015.unified import ProbAIC\n",
    "\n",
    "%lprun -f ProbAIC.run fitter.fit(i, s, gt_shape=gt_s, max_iters=20)"
   ]
  },
  {
   "cell_type": "markdown",
   "metadata": {},
   "source": [
    "## Parts"
   ]
  },
  {
   "cell_type": "markdown",
   "metadata": {},
   "source": [
    "### Build"
   ]
  },
  {
   "cell_type": "code",
   "execution_count": null,
   "metadata": {
    "collapsed": false
   },
   "outputs": [],
   "source": [
    "from menpofast.feature import no_op, aam_dsift, aam_daisy\n",
    "from alabortcvpr2015.unified import PartsUnifiedBuilder\n",
    "from alabortcvpr2015.clm.classifier import MCF\n",
    "\n",
    "offsets = np.meshgrid(range(-0, 1, 1), range(-0, 1, 1))\n",
    "offsets = np.asarray([offsets[0].flatten(), offsets[1].flatten()]).T \n",
    "\n",
    "builder = PartsUnifiedBuilder(parts_shape=(15, 15), features=aam_dsift, diagonal=100, \n",
    "                              classifier=MCF, offsets=offsets, normalize_parts=False, \n",
    "                              covariance=2, scale_shapes=False, scales=(1, .5))\n",
    "\n",
    "unified = builder.build(training_images, group='ibug_face_66', verbose=True)"
   ]
  },
  {
   "cell_type": "markdown",
   "metadata": {},
   "source": [
    "### Test"
   ]
  },
  {
   "cell_type": "code",
   "execution_count": null,
   "metadata": {
    "collapsed": false
   },
   "outputs": [],
   "source": [
    "sampling_mask = np.require(np.zeros((15, 15)), dtype=np.bool)\n",
    "sampling_mask[1::4, 1::4] = True\n",
    "#sampling_mask[:] = True\n",
    "\n",
    "imshow(sampling_mask)"
   ]
  },
  {
   "cell_type": "code",
   "execution_count": null,
   "metadata": {
    "collapsed": false
   },
   "outputs": [],
   "source": [
    "from alabortcvpr2015.unified import PartsUnifiedFitter \n",
    "                  \n",
    "fitter = PartsUnifiedFitter(unified, n_shape=[3, 12], n_appearance=[25, 50], \n",
    "                            scale=100000, factor=100, sampling_mask=sampling_mask)"
   ]
  },
  {
   "cell_type": "code",
   "execution_count": null,
   "metadata": {
    "collapsed": false
   },
   "outputs": [],
   "source": [
    "fitter._algorithms[0]._sigma2=10000\n",
    "fitter._algorithms[1]._sigma2=10000\n",
    "fitter._algorithms[0]._rho2=0\n",
    "fitter._algorithms[1]._rho2=0"
   ]
  },
  {
   "cell_type": "code",
   "execution_count": null,
   "metadata": {
    "collapsed": false
   },
   "outputs": [],
   "source": [
    "np.random.seed(seed=1)\n",
    "\n",
    "fitter_results = []\n",
    "\n",
    "for j, i in enumerate(test_images):\n",
    "    \n",
    "    gt_s = i.landmarks['ibug_face_66'].lms\n",
    "    s = fitter.perturb_shape(gt_s, noise_std=0.05)\n",
    "    \n",
    "    fr = fitter.fit(i, s, gt_shape=gt_s, max_iters=20, prior=False)\n",
    "    \n",
    "    fitter_results.append(fr)\n",
    "    fr.downscale = 0.5\n",
    "    \n",
    "    print 'Image: ', j\n",
    "    print fr"
   ]
  },
  {
   "cell_type": "markdown",
   "metadata": {},
   "source": [
    "### Visualize Results"
   ]
  },
  {
   "cell_type": "code",
   "execution_count": null,
   "metadata": {
    "collapsed": false
   },
   "outputs": [],
   "source": [
    "from menpofit.visualize import visualize_fitting_results\n",
    "    \n",
    "visualize_fitting_results(fitter_results)"
   ]
  },
  {
   "cell_type": "markdown",
   "metadata": {},
   "source": [
    "### Timing"
   ]
  },
  {
   "cell_type": "markdown",
   "metadata": {},
   "source": [
    "#### Total"
   ]
  },
  {
   "cell_type": "code",
   "execution_count": null,
   "metadata": {
    "collapsed": false
   },
   "outputs": [],
   "source": [
    "%timeit fitter.fit(i, s, gt_shape=gt_s, max_iters=20)"
   ]
  },
  {
   "cell_type": "markdown",
   "metadata": {},
   "source": [
    "#### Per line"
   ]
  },
  {
   "cell_type": "code",
   "execution_count": null,
   "metadata": {
    "collapsed": false
   },
   "outputs": [],
   "source": [
    "import line_profiler\n",
    "import IPython\n",
    "\n",
    "ip = IPython.get_ipython()\n",
    "ip.define_magic('lprun', line_profiler.magic_lprun)"
   ]
  },
  {
   "cell_type": "code",
   "execution_count": null,
   "metadata": {
    "collapsed": false
   },
   "outputs": [],
   "source": [
    "from alabortcvpr2015.unified import ProbAIC\n",
    "\n",
    "%lprun -f ProbAIC.run fitter.fit(i, s, gt_shape=gt_s, max_iters=20)"
   ]
  }
 ],
 "metadata": {
  "kernelspec": {
   "display_name": "Python 2",
   "language": "python",
   "name": "python2"
  },
  "language_info": {
   "codemirror_mode": {
    "name": "ipython",
    "version": 2
   },
   "file_extension": ".py",
   "mimetype": "text/x-python",
   "name": "python",
   "nbconvert_exporter": "python",
   "pygments_lexer": "ipython2",
   "version": "2.7.9"
  }
 },
 "nbformat": 4,
 "nbformat_minor": 0
}
