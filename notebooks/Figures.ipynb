{
 "metadata": {
  "name": "",
  "signature": "sha256:7ad552badab61f873f16e143a74af46d03b4289c5876b43d13799ba0706b89c3"
 },
 "nbformat": 3,
 "nbformat_minor": 0,
 "worksheets": [
  {
   "cells": [
    {
     "cell_type": "code",
     "collapsed": false,
     "input": [
      "%matplotlib inline\n",
      "%pylab inline"
     ],
     "language": "python",
     "metadata": {},
     "outputs": []
    },
    {
     "cell_type": "heading",
     "level": 1,
     "metadata": {},
     "source": [
      "Face"
     ]
    },
    {
     "cell_type": "code",
     "collapsed": false,
     "input": [
      "import menpo.io as mio\n",
      "from menpo.landmark import labeller, ibug_face_66\n",
      "from menpofast.utils import convert_from_menpo\n",
      "\n",
      "training_images = []\n",
      "for i in mio.import_images('/data/PhD/DataBases/faces/lfpw/trainset/', verbose=True, \n",
      "                           max_images=None):\n",
      "    \n",
      "    # convert the image from menpo Image to menpofast Image (channels at front)\n",
      "    i = convert_from_menpo(i)\n",
      "    \n",
      "    labeller(i, 'PTS', ibug_face_66)\n",
      "    i.crop_to_landmarks_proportion_inplace(0.5, group='ibug_face_66')\n",
      "    i = i.rescale_landmarks_to_diagonal_range(200, group='ibug_face_66')\n",
      "    \n",
      "    if i.n_channels == 3:\n",
      "        i = i.as_greyscale(mode='average')\n",
      "    training_images.append(i)"
     ],
     "language": "python",
     "metadata": {},
     "outputs": []
    },
    {
     "cell_type": "heading",
     "level": 1,
     "metadata": {},
     "source": [
      "Car"
     ]
    },
    {
     "cell_type": "code",
     "collapsed": false,
     "input": [
      "import menpo.io as mio\n",
      "from menpo.landmark import labeller, streetscene_car_view_1\n",
      "from menpofast.utils import convert_from_menpo\n",
      "\n",
      "training_images_color = []\n",
      "training_images = []\n",
      "for i in mio.import_images('/data/PhD/DataBases/cars/cmu_car_data1/view1/', verbose=True, \n",
      "                           max_images=20):\n",
      "    \n",
      "    # convert the image from menpo Image to menpofast Image (channels at front)\n",
      "    i = convert_from_menpo(i)\n",
      "    \n",
      "    labeller(i, 'PTS', streetscene_car_view_1)\n",
      "    i.crop_to_landmarks_proportion_inplace(0.5, group='streetscene_car_view_1')\n",
      "    i = i.rescale_landmarks_to_diagonal_range(200, group='streetscene_car_view_1')\n",
      "    \n",
      "    training_images_color.append(i)\n",
      "    \n",
      "    if i.n_channels == 3:\n",
      "        ii = i.as_greyscale(mode='average')\n",
      "    training_images.append(ii)"
     ],
     "language": "python",
     "metadata": {},
     "outputs": []
    },
    {
     "cell_type": "code",
     "collapsed": false,
     "input": [
      "from menpo.visualize import visualize_images\n",
      "\n",
      "visualize_images(training_images_color, colours='r', linewidths=2)"
     ],
     "language": "python",
     "metadata": {},
     "outputs": []
    },
    {
     "cell_type": "code",
     "collapsed": false,
     "input": [
      "img = training_images_color[11]\n",
      "\n",
      "img.view_widget(colours='r', linewidths=2)"
     ],
     "language": "python",
     "metadata": {},
     "outputs": []
    },
    {
     "cell_type": "code",
     "collapsed": false,
     "input": [
      "from menpofast.feature import aam_dsift\n",
      "\n",
      "img = training_images[11]\n",
      "\n",
      "masked_img = img.as_masked()\n",
      "masked_img.build_mask_around_landmarks((34, 34), group='streetscene_car_view_1')\n",
      "\n",
      "dsift_img = aam_dsift(masked_img)\n",
      "\n",
      "dsift_img.view_widget(colours='r', linewidths=2)"
     ],
     "language": "python",
     "metadata": {},
     "outputs": []
    }
   ],
   "metadata": {}
  }
 ]
}